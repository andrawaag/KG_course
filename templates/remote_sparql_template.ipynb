{
 "cells": [
  {
   "cell_type": "code",
   "execution_count": 1,
   "id": "2bcfb509d19d6d9f",
   "metadata": {
    "ExecuteTime": {
     "end_time": "2024-08-05T14:38:16.919671Z",
     "start_time": "2024-08-05T14:38:16.081310Z"
    },
    "editable": true,
    "slideshow": {
     "slide_type": ""
    },
    "tags": [
     "remove-input"
    ]
   },
   "outputs": [],
   "source": [
    "# Libraries\n",
    "from wikidataintegrator import wdi_core\n",
    "import os"
   ]
  },
  {
   "cell_type": "markdown",
   "id": "55c8637e7626033e",
   "metadata": {},
   "source": "# SPARQL query template for querying local rdf\n"
  },
  {
   "cell_type": "code",
   "execution_count": 2,
   "id": "initial_id",
   "metadata": {
    "ExecuteTime": {
     "end_time": "2024-08-05T14:38:17.317115Z",
     "start_time": "2024-08-05T14:38:16.920485Z"
    },
    "editable": true,
    "slideshow": {
     "slide_type": ""
    },
    "tags": [
     "remove-input"
    ]
   },
   "outputs": [
    {
     "data": {
      "text/html": [
       "<div>\n",
       "<style scoped>\n",
       "    .dataframe tbody tr th:only-of-type {\n",
       "        vertical-align: middle;\n",
       "    }\n",
       "\n",
       "    .dataframe tbody tr th {\n",
       "        vertical-align: top;\n",
       "    }\n",
       "\n",
       "    .dataframe thead th {\n",
       "        text-align: right;\n",
       "    }\n",
       "</style>\n",
       "<table border=\"1\" class=\"dataframe\">\n",
       "  <thead>\n",
       "    <tr style=\"text-align: right;\">\n",
       "      <th></th>\n",
       "      <th>variant</th>\n",
       "      <th>gene</th>\n",
       "      <th>geneLabel</th>\n",
       "      <th>variantLabel</th>\n",
       "    </tr>\n",
       "  </thead>\n",
       "  <tbody>\n",
       "    <tr>\n",
       "      <th>0</th>\n",
       "      <td>http://www.wikidata.org/entity/Q28371012</td>\n",
       "      <td>http://www.wikidata.org/entity/Q20969980</td>\n",
       "      <td>KRAS</td>\n",
       "      <td>KRAS G12D</td>\n",
       "    </tr>\n",
       "    <tr>\n",
       "      <th>1</th>\n",
       "      <td>http://www.wikidata.org/entity/Q28445120</td>\n",
       "      <td>http://www.wikidata.org/entity/Q18058128</td>\n",
       "      <td>MIR218-1</td>\n",
       "      <td>MIR218-1 EXPRESSION</td>\n",
       "    </tr>\n",
       "    <tr>\n",
       "      <th>2</th>\n",
       "      <td>http://www.wikidata.org/entity/Q28445098</td>\n",
       "      <td>http://www.wikidata.org/entity/Q17860880</td>\n",
       "      <td>CDX2</td>\n",
       "      <td>CDX2 EXPRESSION</td>\n",
       "    </tr>\n",
       "    <tr>\n",
       "      <th>3</th>\n",
       "      <td>http://www.wikidata.org/entity/Q29938321</td>\n",
       "      <td>http://www.wikidata.org/entity/Q14905160</td>\n",
       "      <td>GNAS</td>\n",
       "      <td>GNAS c.393T&gt;C</td>\n",
       "    </tr>\n",
       "    <tr>\n",
       "      <th>4</th>\n",
       "      <td>http://www.wikidata.org/entity/Q29938792</td>\n",
       "      <td>http://www.wikidata.org/entity/Q14905674</td>\n",
       "      <td>DCC</td>\n",
       "      <td>DCC EXPRESSION</td>\n",
       "    </tr>\n",
       "    <tr>\n",
       "      <th>5</th>\n",
       "      <td>http://www.wikidata.org/entity/Q32966014</td>\n",
       "      <td>http://www.wikidata.org/entity/Q18030644</td>\n",
       "      <td>POLE</td>\n",
       "      <td>POLE P286R</td>\n",
       "    </tr>\n",
       "    <tr>\n",
       "      <th>6</th>\n",
       "      <td>http://www.wikidata.org/entity/Q32966018</td>\n",
       "      <td>http://www.wikidata.org/entity/Q18030644</td>\n",
       "      <td>POLE</td>\n",
       "      <td>POLE V411L</td>\n",
       "    </tr>\n",
       "    <tr>\n",
       "      <th>7</th>\n",
       "      <td>http://www.wikidata.org/entity/Q32966021</td>\n",
       "      <td>http://www.wikidata.org/entity/Q18030644</td>\n",
       "      <td>POLE</td>\n",
       "      <td>POLE S459F</td>\n",
       "    </tr>\n",
       "    <tr>\n",
       "      <th>8</th>\n",
       "      <td>http://www.wikidata.org/entity/Q56241040</td>\n",
       "      <td>http://www.wikidata.org/entity/Q17853226</td>\n",
       "      <td>BRAF</td>\n",
       "      <td>BRAF Non-V600</td>\n",
       "    </tr>\n",
       "  </tbody>\n",
       "</table>\n",
       "</div>"
      ],
      "text/plain": [
       "                                    variant  \\\n",
       "0  http://www.wikidata.org/entity/Q28371012   \n",
       "1  http://www.wikidata.org/entity/Q28445120   \n",
       "2  http://www.wikidata.org/entity/Q28445098   \n",
       "3  http://www.wikidata.org/entity/Q29938321   \n",
       "4  http://www.wikidata.org/entity/Q29938792   \n",
       "5  http://www.wikidata.org/entity/Q32966014   \n",
       "6  http://www.wikidata.org/entity/Q32966018   \n",
       "7  http://www.wikidata.org/entity/Q32966021   \n",
       "8  http://www.wikidata.org/entity/Q56241040   \n",
       "\n",
       "                                       gene geneLabel         variantLabel  \n",
       "0  http://www.wikidata.org/entity/Q20969980      KRAS            KRAS G12D  \n",
       "1  http://www.wikidata.org/entity/Q18058128  MIR218-1  MIR218-1 EXPRESSION  \n",
       "2  http://www.wikidata.org/entity/Q17860880      CDX2      CDX2 EXPRESSION  \n",
       "3  http://www.wikidata.org/entity/Q14905160      GNAS        GNAS c.393T>C  \n",
       "4  http://www.wikidata.org/entity/Q14905674       DCC       DCC EXPRESSION  \n",
       "5  http://www.wikidata.org/entity/Q18030644      POLE           POLE P286R  \n",
       "6  http://www.wikidata.org/entity/Q18030644      POLE           POLE V411L  \n",
       "7  http://www.wikidata.org/entity/Q18030644      POLE           POLE S459F  \n",
       "8  http://www.wikidata.org/entity/Q17853226      BRAF        BRAF Non-V600  "
      ]
     },
     "execution_count": 2,
     "metadata": {},
     "output_type": "execute_result"
    }
   ],
   "source": [
    "if not os.path.exists(\"data\"):\n",
    "    # Create the directory if it does not exist\n",
    "    os.makedirs(\"data\")\n",
    "query = \"\"\"\n",
    "#Which variant of which gene predicts a positive prognosis in colorectal cancer\n",
    "SELECT ?gene ?geneLabel ?variant ?variantLabel\n",
    "WHERE\n",
    "{\n",
    "  VALUES ?disease {wd:Q188874}\n",
    "    ?variant wdt:P3358 ?disease ; # P3358 Positive prognostic predictor\n",
    "          wdt:P3433 ?gene . # P3433 biological variant of\n",
    "    ?gene rdfs:label ?geneLabel .\n",
    "    ?variant rdfs:label ?variantLabel .\n",
    "    FILTER(LANG(?geneLabel) = \"en\")\n",
    "    FILTER(LANG(?variantLabel) = \"en\")\n",
    "}\n",
    "\"\"\"\n",
    "results = wdi_core.WDItemEngine.execute_sparql_query(query, as_dataframe=True)\n",
    "results.to_csv(\"data/positive_prognostic_predictor_in_colorectal_cancer.csv\", index=False)\n",
    "results"
   ]
  },
  {
   "cell_type": "markdown",
   "id": "4605c93de1dd6930",
   "metadata": {},
   "source": [
    "# Results\n",
    "Download the results as csv from [here](data/positive_prognostic_predictor_in_colorectal_cancer.csv)"
   ]
  },
  {
   "cell_type": "code",
   "execution_count": null,
   "id": "5b3160e08ce8f853",
   "metadata": {},
   "outputs": [],
   "source": []
  }
 ],
 "metadata": {
  "kernelspec": {
   "display_name": "Python 3 (ipykernel)",
   "language": "python",
   "name": "python3"
  },
  "language_info": {
   "codemirror_mode": {
    "name": "ipython",
    "version": 3
   },
   "file_extension": ".py",
   "mimetype": "text/x-python",
   "name": "python",
   "nbconvert_exporter": "python",
   "pygments_lexer": "ipython3",
   "version": "3.12.2"
  }
 },
 "nbformat": 4,
 "nbformat_minor": 5
}
